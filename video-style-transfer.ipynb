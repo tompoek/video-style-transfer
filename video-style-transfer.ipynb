{
 "cells": [
  {
   "cell_type": "markdown",
   "id": "d074a019",
   "metadata": {},
   "source": [
    "# Video Style Transfer"
   ]
  },
  {
   "cell_type": "markdown",
   "id": "714c1e5a",
   "metadata": {},
   "source": [
    "### Install dependencies\n",
    "- Install [VLC](https://www.videolan.org/)\n",
    "- `brew install ffmpeg`\n",
    "- Install [OpenVINO Development](https://docs.openvino.ai/latest/openvino_docs_install_guides_install_dev_tools.html) incl. ONNX API"
   ]
  },
  {
   "cell_type": "markdown",
   "id": "560fa504",
   "metadata": {},
   "source": [
    "### Activate virtual environment\n",
    "- `source ~/openvino_env/bin/activate`"
   ]
  },
  {
   "cell_type": "markdown",
   "id": "6cff4692",
   "metadata": {},
   "source": [
    "### Import packages"
   ]
  },
  {
   "cell_type": "code",
   "execution_count": 1,
   "id": "36278ffe",
   "metadata": {},
   "outputs": [],
   "source": [
    "import sys\n",
    "import platform\n",
    "from enum import Enum\n",
    "from pathlib import Path\n",
    "from glob import glob\n",
    "\n",
    "import cv2\n",
    "import numpy as np\n",
    "from openvino.runtime import Core, PartialShape\n",
    "from yaspin import yaspin\n",
    "\n",
    "sys.path.append(\"/Users/tompoek/openvino_env/notebooks/utils\")\n",
    "from notebook_utils import download_file"
   ]
  },
  {
   "cell_type": "markdown",
   "id": "a3dc9b33",
   "metadata": {},
   "source": [
    "### Download pretrained models"
   ]
  },
  {
   "cell_type": "code",
   "execution_count": 2,
   "id": "0602482b",
   "metadata": {},
   "outputs": [],
   "source": [
    "BASE_URL = \"https://github.com/onnx/models/raw/main/vision/style_transfer/fast_neural_style/model\"\n",
    "MODEL_DIR = \"model\"\n",
    "\n",
    "class Style(Enum):\n",
    "    MOSAIC = \"mosaic\"\n",
    "    RAIN_PRINCESS = \"rain-princess\"\n",
    "    CANDY = \"candy\"\n",
    "    UDNIE = \"udnie\"\n",
    "    POINTILISM = \"pointilism\"\n",
    "\n",
    "    def __init__(self, *args):\n",
    "        self.model_path = Path(f\"{self.value}-9.onnx\")\n",
    "        self.title = self.value.replace(\"-\", \" \").title()\n",
    "        self.url = f\"{BASE_URL}/{self.model_path}\""
   ]
  },
  {
   "cell_type": "code",
   "execution_count": 3,
   "id": "38279790",
   "metadata": {},
   "outputs": [],
   "source": [
    "for style in Style:\n",
    "    if not Path(f\"{MODEL_DIR}/{style.model_path}\").exists():\n",
    "        download_file(style.url, directory=MODEL_DIR)"
   ]
  },
  {
   "cell_type": "markdown",
   "id": "af1a6509",
   "metadata": {},
   "source": [
    "### Set video file and frame rate"
   ]
  },
  {
   "cell_type": "code",
   "execution_count": 4,
   "id": "34fd3274",
   "metadata": {},
   "outputs": [],
   "source": [
    "VIDEO_FILE = \"video_20221126_145754.mp4\"\n",
    "video_name = Path(VIDEO_FILE).stem"
   ]
  },
  {
   "cell_type": "markdown",
   "id": "58b5362c",
   "metadata": {},
   "source": [
    "Read video info esp. the frame rate named: `fps`"
   ]
  },
  {
   "cell_type": "code",
   "execution_count": 5,
   "id": "58b8265e",
   "metadata": {},
   "outputs": [
    {
     "name": "stdout",
     "output_type": "stream",
     "text": [
      "ffmpeg version 5.0.1 Copyright (c) 2000-2022 the FFmpeg developers\n",
      "  built with Apple clang version 13.1.6 (clang-1316.0.21.2.5)\n",
      "  configuration: --prefix=/usr/local/Cellar/ffmpeg/5.0.1_3 --enable-shared --enable-pthreads --enable-version3 --cc=clang --host-cflags= --host-ldflags= --enable-ffplay --enable-gnutls --enable-gpl --enable-libaom --enable-libbluray --enable-libdav1d --enable-libmp3lame --enable-libopus --enable-librav1e --enable-librist --enable-librubberband --enable-libsnappy --enable-libsrt --enable-libtesseract --enable-libtheora --enable-libvidstab --enable-libvmaf --enable-libvorbis --enable-libvpx --enable-libwebp --enable-libx264 --enable-libx265 --enable-libxml2 --enable-libxvid --enable-lzma --enable-libfontconfig --enable-libfreetype --enable-frei0r --enable-libass --enable-libopencore-amrnb --enable-libopencore-amrwb --enable-libopenjpeg --enable-libspeex --enable-libsoxr --enable-libzmq --enable-libzimg --disable-libjack --disable-indev=jack --enable-videotoolbox\n",
      "  libavutil      57. 17.100 / 57. 17.100\n",
      "  libavcodec     59. 18.100 / 59. 18.100\n",
      "  libavformat    59. 16.100 / 59. 16.100\n",
      "  libavdevice    59.  4.100 / 59.  4.100\n",
      "  libavfilter     8. 24.100 /  8. 24.100\n",
      "  libswscale      6.  4.100 /  6.  4.100\n",
      "  libswresample   4.  3.100 /  4.  3.100\n",
      "  libpostproc    56.  3.100 / 56.  3.100\n",
      "Input #0, mov,mp4,m4a,3gp,3g2,mj2, from 'video_20221126_145754.mp4':\n",
      "  Metadata:\n",
      "    major_brand     : mp42\n",
      "    minor_version   : 0\n",
      "    compatible_brands: isommp42\n",
      "    creation_time   : 2022-11-26T06:58:07.000000Z\n",
      "    com.android.version: 11\n",
      "  Duration: 00:00:11.35, start: 0.000000, bitrate: 17781 kb/s\n",
      "  Stream #0:0[0x1](eng): Video: h264 (High) (avc1 / 0x31637661), yuv420p(tv, bt709, progressive), 1920x1080, 17395 kb/s, SAR 1:1 DAR 16:9, 24 fps, 24 tbr, 90k tbn (default)\n",
      "    Metadata:\n",
      "      creation_time   : 2022-11-26T06:58:07.000000Z\n",
      "      handler_name    : VideoHandle\n",
      "      vendor_id       : [0][0][0][0]\n",
      "  Stream #0:1[0x2](eng): Audio: aac (LC) (mp4a / 0x6134706D), 48000 Hz, stereo, fltp, 128 kb/s (default)\n",
      "    Metadata:\n",
      "      creation_time   : 2022-11-26T06:58:07.000000Z\n",
      "      handler_name    : SoundHandle\n",
      "      vendor_id       : [0][0][0][0]\n",
      "\u001b[4;31mAt least one output file must be specified\n",
      "\u001b[0m"
     ]
    }
   ],
   "source": [
    "read_video_info_command = f\"ffmpeg -i {VIDEO_FILE}\"\n",
    "! $read_video_info_command"
   ]
  },
  {
   "cell_type": "markdown",
   "id": "b32b9cdb",
   "metadata": {},
   "source": [
    "Write the frame rate value as displayed above to variable below: `fps_video`"
   ]
  },
  {
   "cell_type": "code",
   "execution_count": 6,
   "id": "50cd4673",
   "metadata": {},
   "outputs": [],
   "source": [
    "fps_video, fps_frames = 24., 24.  # Hz\n",
    "fps_ratio = fps_video / fps_frames"
   ]
  },
  {
   "cell_type": "markdown",
   "id": "99ddb390",
   "metadata": {},
   "source": [
    "### Extract frame images from video"
   ]
  },
  {
   "cell_type": "code",
   "execution_count": 5,
   "id": "b8fb80bd",
   "metadata": {},
   "outputs": [
    {
     "name": "stdout",
     "output_type": "stream",
     "text": [
      "VLC media player 3.0.17.3 Vetinari (revision 3.0.17.3-0-g426513d88e)\n",
      "\u001b[1;34m[swscaler @ 0x7fca3e8c4000] \u001b[0m\u001b[0;33mdeprecated pixel format used, make sure you did set range correctly\n",
      "\u001b[0m"
     ]
    }
   ],
   "source": [
    "# Detect VLC command per OS\n",
    "if platform.system() == \"Windows\":\n",
    "    vlc = \"\\\"C:\\\\Program Files\\\\VideoLAN\\\\VLC\\\\vlc.exe\\\"\"\n",
    "elif platform.system() == \"Darwin\":  # OSX\n",
    "    vlc = \"/Applications/VLC.app/Contents/MacOS/VLC\"\n",
    "else:  # Linux\n",
    "    vlc = \"vlc\"\n",
    "\n",
    "# Prepare images folder\n",
    "if Path(video_name).exists():\n",
    "    remove_dir_command = f\"rm -rf {video_name}\"\n",
    "    ! $remove_dir_command\n",
    "make_dir_command = f\"mkdir {video_name}\"\n",
    "! $make_dir_command\n",
    "\n",
    "# Extract frame images\n",
    "extract_frames_command = f\"{vlc} {VIDEO_FILE} --video-filter=scene \" \\\n",
    "                         f\"--scene-ratio={fps_ratio} --rate={fps_ratio} \" \\\n",
    "                         f\"--vout=dummy --aout=dummy --intf=dummy \" \\\n",
    "                         f\"--scene-path={video_name} \" \\\n",
    "                         f\"--scene-format=jpeg \" \\\n",
    "                         f\"--quiet vlc://quit\"\n",
    "! $extract_frames_command"
   ]
  },
  {
   "cell_type": "markdown",
   "id": "a45d7a50",
   "metadata": {},
   "source": [
    "### Transfer images to artistic styles"
   ]
  },
  {
   "cell_type": "code",
   "execution_count": 6,
   "id": "43b65105",
   "metadata": {},
   "outputs": [],
   "source": [
    "# (Optional) Resize images to smaller size\n",
    "def resize_to_max(image: np.ndarray, max_side: int) -> np.ndarray:\n",
    "    \"\"\"\n",
    "    Resize image to an image where the largest side has a maximum length of max_side\n",
    "    while keeping aspect ratio. Example: if an original image has width and height of (1000, 500)\n",
    "    and max_side is 300, the resized image will have a width and height of (300, 150).\n",
    "\n",
    "    :param image: Array of image to resize\n",
    "    :param max_side: Maximum length of largest image side\n",
    "    :return: Resized image\n",
    "    \"\"\"\n",
    "    if max(image.shape) <= max_side:\n",
    "        new_image = image\n",
    "    else:\n",
    "        index = np.argmax(image.shape)\n",
    "        factor = max_side / image.shape[index]\n",
    "        height, width = image.shape[:2]\n",
    "        new_height, new_width = int(factor * height), int(factor * width)\n",
    "        new_image = cv2.resize(image, (new_width, new_height))\n",
    "    return new_image"
   ]
  },
  {
   "cell_type": "code",
   "execution_count": 7,
   "id": "2ad4118a",
   "metadata": {},
   "outputs": [
    {
     "name": "stdout",
     "output_type": "stream",
     "text": [
      "\u001b[K✔\u001b[0m Transferring images to Mosaic style\u001b[?25h\u001b[K\n",
      "\u001b[K✔\u001b[0m Transferring images to Rain Princess style\u001b[?25h\n",
      "\u001b[K✔\u001b[0m Transferring images to Candy style\u001b[?25h\n",
      "\u001b[K✔\u001b[0m Transferring images to Udnie style25h\u001b[K\n",
      "\u001b[K✔\u001b[0m Transferring images to Pointilism style25h\u001b[K\n"
     ]
    }
   ],
   "source": [
    "IMAGE_FILES = glob(f\"{video_name}/scene*.jpeg\")\n",
    "\n",
    "# (Optional) Resize images for efficiency\n",
    "RESIZE_IMAGE = False\n",
    "resized_max_side = 800\n",
    "\n",
    "# Create a `Core` instance.\n",
    "ie = Core()\n",
    "\n",
    "# Loop over models to transfer images' styles.\n",
    "for i, style in enumerate(Style):\n",
    "    # Prepare output folder\n",
    "    output_folder = Path(f\"{video_name}_{style.model_path.stem}\")\n",
    "    output_folder.mkdir(exist_ok=True)\n",
    "    \n",
    "    # Load the model and get model info.\n",
    "    model = ie.read_model(model=Path(MODEL_DIR) / style.model_path)\n",
    "    input_key = model.input(0)\n",
    "    \n",
    "    # Load an arbitrary image to extract its shape for network prep\n",
    "    image = cv2.cvtColor(cv2.imread(IMAGE_FILES[0]), cv2.COLOR_BGR2RGB)\n",
    "    if RESIZE_IMAGE:\n",
    "        image = resize_to_max(image=image, max_side=resized_max_side)\n",
    "\n",
    "    # Reshape the network to the image shape and load the network to a device.\n",
    "    model.reshape({input_key: PartialShape([1, 3, image.shape[0], image.shape[1]])})\n",
    "    compiled_model = ie.compile_model(model=model, device_name=\"CPU\")\n",
    "    output_key = compiled_model.output(0)\n",
    "\n",
    "    with yaspin(text=f\"Transferring images to {style.title} style\") as sp:\n",
    "        # Loop over images to transfer style.\n",
    "        for image_file in IMAGE_FILES:\n",
    "            image = cv2.cvtColor(cv2.imread(image_file), cv2.COLOR_BGR2RGB)\n",
    "            if RESIZE_IMAGE:\n",
    "                image = resize_to_max(image=image, max_side=resized_max_side)\n",
    "            \n",
    "            # Transpose the input image to network dimensions\n",
    "            input_image = np.expand_dims(image.transpose(2, 0, 1), axis=0)\n",
    "            # Extract the name and the shape of the image.\n",
    "            image_name = Path(image_file).stem\n",
    "            image_shape_str = f\"{image.shape[1]}x{image.shape[0]}\"\n",
    "            result = compiled_model([input_image])[output_key]\n",
    "\n",
    "            # Convert the inference result to the image shape and apply postprocessing.\n",
    "            # Postprocessing is described in the model documentation:\n",
    "            # https://github.com/onnx/models/tree/master/vision/style_transfer/fast_neural_style\n",
    "            result = result.squeeze().transpose(1, 2, 0)\n",
    "            result = np.clip(result, 0, 255).astype(np.uint8)\n",
    "\n",
    "            # Save result to image\n",
    "            image_path = f\"{image_name}.jpeg\"\n",
    "            output_path = output_folder / image_path\n",
    "            cv2.imwrite(str(output_path), cv2.cvtColor(result, cv2.COLOR_BGR2RGB))\n",
    "        \n",
    "        # Display check mark\n",
    "        sp.ok(\"✔\")\n",
    "\n",
    "    del model\n",
    "    del compiled_model\n"
   ]
  },
  {
   "cell_type": "markdown",
   "id": "0ecd16aa",
   "metadata": {},
   "source": [
    "### Reconstruct video from styled images"
   ]
  },
  {
   "cell_type": "code",
   "execution_count": 8,
   "id": "ef00bfee",
   "metadata": {},
   "outputs": [
    {
     "name": "stdout",
     "output_type": "stream",
     "text": [
      "\u001b[K✔\u001b[0m Creating video in Mosaic style\u001b[?25h\u001b[K\u001b[K\u001b[K\u001b[K\u001b[K\u001b[K\u001b[K\n",
      "\u001b[K✔\u001b[0m Creating video in Rain Princess style\u001b[?25h\u001b[K\u001b[K\u001b[K\u001b[K\u001b[K\u001b[K\u001b[K\u001b[K\u001b[K\n",
      "\u001b[K✔\u001b[0m Creating video in Candy style\u001b[?25h\u001b[K\u001b[K\u001b[K\u001b[K\u001b[K\u001b[K\n",
      "\u001b[K✔\u001b[0m Creating video in Udnie style\u001b[?25h\u001b[K\u001b[K\u001b[K\n",
      "\u001b[K✔\u001b[0m Creating video in Pointilism style\u001b[?25h\u001b[K\u001b[K\u001b[K\u001b[K\u001b[K\u001b[K\n"
     ]
    }
   ],
   "source": [
    "# Loop over models to reconstruct video from styled images.\n",
    "for i, style in enumerate(Style):\n",
    "    # Read output folder\n",
    "    output_folder = Path(f\"{video_name}_{style.model_path.stem}\")\n",
    "    \n",
    "    with yaspin(text=f\"Creating video in {style.title} style\") as sp:\n",
    "        # Reconstruct video from images\n",
    "        reconstruct_video_command = f\"ffmpeg -r {fps_frames} \" \\\n",
    "                                    f\"-i {output_folder}/scene%05d.jpeg \" \\\n",
    "                                    f\"{output_folder}.mp4 \" \\\n",
    "                                    f\"-v quiet\"\n",
    "        ! $reconstruct_video_command\n",
    "        \n",
    "        # Display check mark\n",
    "        sp.ok(\"✔\")"
   ]
  },
  {
   "cell_type": "markdown",
   "id": "6f0229a5",
   "metadata": {},
   "source": [
    "### Just for fun: Mix styled videos along with original source\n",
    "\n",
    "The following cells worked only after observing that there were 251 frames and four of the five styles looked cool."
   ]
  },
  {
   "cell_type": "code",
   "execution_count": 1,
   "id": "6c8f7fec",
   "metadata": {},
   "outputs": [],
   "source": [
    "video_name = \"video_20221126_145754\"\n",
    "rename_source_images_folder_command = f\"mv {video_name} {video_name}_source\"\n",
    "! $rename_source_images_folder_command"
   ]
  },
  {
   "cell_type": "code",
   "execution_count": 2,
   "id": "35169048",
   "metadata": {},
   "outputs": [],
   "source": [
    "STYLES = [(\"source\",25), (\"mosaic-9\",75), (\"udnie-9\",125), (\"candy-9\",175), (\"rain-princess-9\",225), (\"source\",251)]\n",
    "mixed_images_folder = \"mixed_images\"\n",
    "make_dir_command = f\"mkdir {mixed_images_folder}\"\n",
    "! $make_dir_command\n",
    "\n",
    "s, i = 0, 1\n",
    "while s < len(STYLES):\n",
    "    idx = \"{:0>5}\".format(i)\n",
    "    copy_image_command = f\"cp {video_name}_{STYLES[s][0]}/scene{idx}.jpeg {mixed_images_folder}/\"\n",
    "    ! $copy_image_command\n",
    "    if i == STYLES[s][1]:\n",
    "        s += 1\n",
    "    i += 1"
   ]
  },
  {
   "cell_type": "code",
   "execution_count": 3,
   "id": "268fe2e4",
   "metadata": {},
   "outputs": [],
   "source": [
    "fps_frames = 24.  # Hz\n",
    "reconstruct_video_command = f\"ffmpeg -r {fps_frames} \" \\\n",
    "                            f\"-i {mixed_images_folder}/scene%05d.jpeg \" \\\n",
    "                            f\"{video_name}_mixed_styles.mp4 \" \\\n",
    "                            f\"-v quiet\"\n",
    "! $reconstruct_video_command"
   ]
  }
 ],
 "metadata": {
  "kernelspec": {
   "display_name": "Python 3",
   "language": "python",
   "name": "python3"
  },
  "language_info": {
   "codemirror_mode": {
    "name": "ipython",
    "version": 3
   },
   "file_extension": ".py",
   "mimetype": "text/x-python",
   "name": "python",
   "nbconvert_exporter": "python",
   "pygments_lexer": "ipython3",
   "version": "3.9.13"
  }
 },
 "nbformat": 4,
 "nbformat_minor": 5
}
