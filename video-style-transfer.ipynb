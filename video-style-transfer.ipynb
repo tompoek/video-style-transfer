{
 "cells": [
  {
   "cell_type": "markdown",
   "id": "4c352f2e",
   "metadata": {},
   "source": [
    "# Video Style Transfer"
   ]
  },
  {
   "cell_type": "markdown",
   "id": "9be06d0f",
   "metadata": {},
   "source": [
    "### Install dependencies\n",
    "- Install [VLC](https://www.videolan.org/)\n",
    "- `brew install ffmpeg`\n",
    "- Install [OpenVINO Development](https://docs.openvino.ai/latest/openvino_docs_install_guides_install_dev_tools.html) incl. ONNX API"
   ]
  },
  {
   "cell_type": "markdown",
   "id": "c1b6d25e",
   "metadata": {},
   "source": [
    "### Activate virtual environment\n",
    "- `source ~/openvino_env/bin/activate`"
   ]
  },
  {
   "cell_type": "markdown",
   "id": "f5a55285",
   "metadata": {},
   "source": [
    "### Import packages"
   ]
  },
  {
   "cell_type": "code",
   "execution_count": 1,
   "id": "ee69fb70",
   "metadata": {},
   "outputs": [],
   "source": [
    "import sys\n",
    "import platform\n",
    "from enum import Enum\n",
    "from pathlib import Path\n",
    "from glob import glob\n",
    "\n",
    "import cv2\n",
    "import numpy as np\n",
    "from openvino.runtime import Core, PartialShape\n",
    "from yaspin import yaspin\n",
    "\n",
    "sys.path.append(\"/Users/tompoek/openvino_env/notebooks/utils\")\n",
    "from notebook_utils import download_file"
   ]
  },
  {
   "cell_type": "markdown",
   "id": "1e6a7b78",
   "metadata": {},
   "source": [
    "### Download pretrained models"
   ]
  },
  {
   "cell_type": "code",
   "execution_count": 2,
   "id": "9caec1e5",
   "metadata": {},
   "outputs": [],
   "source": [
    "BASE_URL = \"https://github.com/onnx/models/raw/main/vision/style_transfer/fast_neural_style/model\"\n",
    "MODEL_DIR = \"model\"\n",
    "\n",
    "class Style(Enum):\n",
    "    MOSAIC = \"mosaic\"\n",
    "    RAIN_PRINCESS = \"rain-princess\"\n",
    "    CANDY = \"candy\"\n",
    "    UDNIE = \"udnie\"\n",
    "    POINTILISM = \"pointilism\"\n",
    "\n",
    "    def __init__(self, *args):\n",
    "        self.model_path = Path(f\"{self.value}-9.onnx\")\n",
    "        self.title = self.value.replace(\"-\", \" \").title()\n",
    "        self.url = f\"{BASE_URL}/{self.model_path}\""
   ]
  },
  {
   "cell_type": "code",
   "execution_count": 3,
   "id": "61b21814",
   "metadata": {},
   "outputs": [],
   "source": [
    "for style in Style:\n",
    "    if not Path(f\"{MODEL_DIR}/{style.model_path}\").exists():\n",
    "        download_file(style.url, directory=MODEL_DIR)"
   ]
  },
  {
   "cell_type": "markdown",
   "id": "7ece77ea",
   "metadata": {},
   "source": [
    "### Set video file and frame rate"
   ]
  },
  {
   "cell_type": "code",
   "execution_count": 4,
   "id": "d6b66da0",
   "metadata": {},
   "outputs": [],
   "source": [
    "VIDEO_FILE = \"MVI_2540.MP4\"\n",
    "video_name = Path(VIDEO_FILE).stem\n",
    "fps_video, fps_frames = 25., 25.  # Hz\n",
    "fps_ratio = fps_video / fps_frames"
   ]
  },
  {
   "cell_type": "markdown",
   "id": "4936ca68",
   "metadata": {},
   "source": [
    "### Extract frame images from video"
   ]
  },
  {
   "cell_type": "code",
   "execution_count": 5,
   "id": "bf591452",
   "metadata": {},
   "outputs": [
    {
     "name": "stdout",
     "output_type": "stream",
     "text": [
      "VLC media player 3.0.17.3 Vetinari (revision 3.0.17.3-0-g426513d88e)\n",
      "\u001b[1;34m[swscaler @ 0x7f9d230cb000] \u001b[0m\u001b[0;33mdeprecated pixel format used, make sure you did set range correctly\n",
      "\u001b[0m"
     ]
    }
   ],
   "source": [
    "# Detect VLC command per OS\n",
    "if platform.system() == \"Windows\":\n",
    "    vlc = \"\\\"C:\\\\Program Files\\\\VideoLAN\\\\VLC\\\\vlc.exe\\\"\"\n",
    "elif platform.system() == \"Darwin\":  # OSX\n",
    "    vlc = \"/Applications/VLC.app/Contents/MacOS/VLC\"\n",
    "else:  # Linux\n",
    "    vlc = \"vlc\"\n",
    "\n",
    "# Prepare images folder\n",
    "if Path(video_name).exists():\n",
    "    remove_dir_command = f\"rm -rf {video_name}\"\n",
    "    ! $remove_dir_command\n",
    "make_dir_command = f\"mkdir {video_name}\"\n",
    "! $make_dir_command\n",
    "\n",
    "# Extract frame images\n",
    "extract_frames_command = f\"{vlc} {VIDEO_FILE} --video-filter=scene \" \\\n",
    "                         f\"--scene-ratio={fps_ratio} --rate={fps_ratio} \" \\\n",
    "                         f\"--vout=dummy --aout=dummy --intf=dummy \" \\\n",
    "                         f\"--scene-path={video_name} \" \\\n",
    "                         f\"--scene-format=jpeg \" \\\n",
    "                         f\"--quiet vlc://quit\"\n",
    "! $extract_frames_command"
   ]
  },
  {
   "cell_type": "markdown",
   "id": "b0461525",
   "metadata": {},
   "source": [
    "### Transfer images to artistic styles"
   ]
  },
  {
   "cell_type": "code",
   "execution_count": 6,
   "id": "7d223c9a",
   "metadata": {},
   "outputs": [],
   "source": [
    "# (Optional) Resize images to smaller size\n",
    "def resize_to_max(image: np.ndarray, max_side: int) -> np.ndarray:\n",
    "    \"\"\"\n",
    "    Resize image to an image where the largest side has a maximum length of max_side\n",
    "    while keeping aspect ratio. Example: if an original image has width and height of (1000, 500)\n",
    "    and max_side is 300, the resized image will have a width and height of (300, 150).\n",
    "\n",
    "    :param image: Array of image to resize\n",
    "    :param max_side: Maximum length of largest image side\n",
    "    :return: Resized image\n",
    "    \"\"\"\n",
    "    if max(image.shape) <= max_side:\n",
    "        new_image = image\n",
    "    else:\n",
    "        index = np.argmax(image.shape)\n",
    "        factor = max_side / image.shape[index]\n",
    "        height, width = image.shape[:2]\n",
    "        new_height, new_width = int(factor * height), int(factor * width)\n",
    "        new_image = cv2.resize(image, (new_width, new_height))\n",
    "    return new_image"
   ]
  },
  {
   "cell_type": "code",
   "execution_count": 7,
   "id": "0307de89",
   "metadata": {},
   "outputs": [
    {
     "name": "stdout",
     "output_type": "stream",
     "text": [
      "\u001b[K✔\u001b[0m Transferring images to Mosaic style25h\u001b[K\n",
      "\u001b[K✔\u001b[0m Transferring images to Rain Princess style25h\u001b[K\u001b[K\n",
      "\u001b[K✔\u001b[0m Transferring images to Candy style\u001b[?25h\n",
      "\u001b[K✔\u001b[0m Transferring images to Udnie style\u001b[?25h\n",
      "\u001b[K✔\u001b[0m Transferring images to Pointilism style\u001b[?25h\n"
     ]
    }
   ],
   "source": [
    "IMAGE_FILES = glob(f\"{video_name}/scene*.jpeg\")\n",
    "\n",
    "# (Optional) Resize images for efficiency\n",
    "RESIZE_IMAGE = False\n",
    "resized_max_side = 800\n",
    "\n",
    "# Create a `Core` instance.\n",
    "ie = Core()\n",
    "\n",
    "# Loop over models to transfer images' styles.\n",
    "for i, style in enumerate(Style):\n",
    "    # Prepare output folder\n",
    "    output_folder = Path(f\"{video_name}_{style.model_path.stem}\")\n",
    "    output_folder.mkdir(exist_ok=True)\n",
    "    \n",
    "    # Load the model and get model info.\n",
    "    model = ie.read_model(model=Path(MODEL_DIR) / style.model_path)\n",
    "    input_key = model.input(0)\n",
    "    \n",
    "    # Load an arbitrary image to extract its shape for network prep\n",
    "    image = cv2.cvtColor(cv2.imread(IMAGE_FILES[0]), cv2.COLOR_BGR2RGB)\n",
    "    if RESIZE_IMAGE:\n",
    "        image = resize_to_max(image=image, max_side=resized_max_side)\n",
    "\n",
    "    # Reshape the network to the image shape and load the network to a device.\n",
    "    model.reshape({input_key: PartialShape([1, 3, image.shape[0], image.shape[1]])})\n",
    "    compiled_model = ie.compile_model(model=model, device_name=\"CPU\")\n",
    "    output_key = compiled_model.output(0)\n",
    "\n",
    "    with yaspin(text=f\"Transferring images to {style.title} style\") as sp:\n",
    "        # Loop over images to transfer style.\n",
    "        for image_file in IMAGE_FILES:\n",
    "            image = cv2.cvtColor(cv2.imread(image_file), cv2.COLOR_BGR2RGB)\n",
    "            if RESIZE_IMAGE:\n",
    "                image = resize_to_max(image=image, max_side=resized_max_side)\n",
    "            \n",
    "            # Transpose the input image to network dimensions\n",
    "            input_image = np.expand_dims(image.transpose(2, 0, 1), axis=0)\n",
    "            # Extract the name and the shape of the image.\n",
    "            image_name = Path(image_file).stem\n",
    "            image_shape_str = f\"{image.shape[1]}x{image.shape[0]}\"\n",
    "            result = compiled_model([input_image])[output_key]\n",
    "\n",
    "            # Convert the inference result to the image shape and apply postprocessing.\n",
    "            # Postprocessing is described in the model documentation:\n",
    "            # https://github.com/onnx/models/tree/master/vision/style_transfer/fast_neural_style\n",
    "            result = result.squeeze().transpose(1, 2, 0)\n",
    "            result = np.clip(result, 0, 255).astype(np.uint8)\n",
    "\n",
    "            # Save result to image\n",
    "            image_path = f\"{image_name}.jpeg\"\n",
    "            output_path = output_folder / image_path\n",
    "            cv2.imwrite(str(output_path), cv2.cvtColor(result, cv2.COLOR_BGR2RGB))\n",
    "        \n",
    "        # Display check mark\n",
    "        sp.ok(\"✔\")\n",
    "\n",
    "    del model\n",
    "    del compiled_model\n"
   ]
  },
  {
   "cell_type": "markdown",
   "id": "dbdee87c",
   "metadata": {},
   "source": [
    "### Reconstruct video from styled images"
   ]
  },
  {
   "cell_type": "code",
   "execution_count": 8,
   "id": "b93c0e13",
   "metadata": {},
   "outputs": [
    {
     "name": "stdout",
     "output_type": "stream",
     "text": [
      "\u001b[K✔\u001b[0m Creating video in Mosaic style25h\u001b[K\n",
      "\u001b[K✔\u001b[0m Creating video in Rain Princess style\u001b[?25h\n",
      "\u001b[K✔\u001b[0m Creating video in Candy style\u001b[?25h\n",
      "\u001b[K✔\u001b[0m Creating video in Udnie style\u001b[?25h\n",
      "\u001b[K✔\u001b[0m Creating video in Pointilism style\u001b[?25h\n"
     ]
    }
   ],
   "source": [
    "# Loop over models to reconstruct video from styled images.\n",
    "for i, style in enumerate(Style):\n",
    "    # Read output folder\n",
    "    output_folder = Path(f\"{video_name}_{style.model_path.stem}\")\n",
    "    \n",
    "    with yaspin(text=f\"Creating video in {style.title} style\") as sp:\n",
    "        # Reconstruct video from images\n",
    "        reconstruct_video_command = f\"ffmpeg -r {fps_frames} \" \\\n",
    "                                    f\"-i {output_folder}/scene%05d.jpeg \" \\\n",
    "                                    f\"{output_folder}.mp4 \" \\\n",
    "                                    f\"-v quiet\"\n",
    "        ! $reconstruct_video_command\n",
    "        \n",
    "        # Display check mark\n",
    "        sp.ok(\"✔\")"
   ]
  }
 ],
 "metadata": {
  "kernelspec": {
   "display_name": "Python 3",
   "language": "python",
   "name": "python3"
  },
  "language_info": {
   "codemirror_mode": {
    "name": "ipython",
    "version": 3
   },
   "file_extension": ".py",
   "mimetype": "text/x-python",
   "name": "python",
   "nbconvert_exporter": "python",
   "pygments_lexer": "ipython3",
   "version": "3.9.13"
  }
 },
 "nbformat": 4,
 "nbformat_minor": 5
}
